{
 "cells": [
  {
   "cell_type": "code",
   "execution_count": 1,
   "metadata": {},
   "outputs": [],
   "source": [
    "%matplotlib inline"
   ]
  },
  {
   "cell_type": "markdown",
   "metadata": {},
   "source": [
    "\n",
    "# Chan-Vese Segmentation\n",
    "\n",
    "\n",
    "The Chan-Vese segmentation algorithm is designed to segment objects without\n",
    "clearly defined boundaries. This algorithm is based on level sets that are\n",
    "evolved iteratively to minimize an energy, which is defined by\n",
    "weighted values corresponding to the sum of differences intensity\n",
    "from the average value outside the segmented region, the sum of\n",
    "differences from the average value inside the segmented region, and a\n",
    "term which is dependent on the length of the boundary of the segmented\n",
    "region.\n",
    "\n",
    "This algorithm was first proposed by Tony Chan and Luminita Vese, in\n",
    "a publication entitled \"An Active Contour Model Without Edges\" [1]_. See also\n",
    "[2]_, [3]_.\n",
    "\n",
    "This implementation of the algorithm is somewhat simplified in the\n",
    "sense that the area factor 'nu' described in the original paper is not\n",
    "implemented, and is only suitable for grayscale images.\n",
    "\n",
    "Typical values for ``lambda1`` and ``lambda2`` are 1. If the 'background' is\n",
    "very different from the segmented object in terms of distribution (for\n",
    "example, a uniform black image with figures of varying intensity), then\n",
    "these values should be different from each other.\n",
    "\n",
    "Typical values for ``mu`` are between 0 and 1, though higher values can be\n",
    "used when dealing with shapes with very ill-defined contours.\n",
    "\n",
    "The algorithm also returns a list of values that corresponds to the\n",
    "energy at each iteration. This can be used to adjust the various\n",
    "parameters described above.\n",
    "\n",
    "References\n",
    "----------\n",
    ".. [1] An Active Contour Model without Edges, Tony Chan and\n",
    "       Luminita Vese, Scale-Space Theories in Computer Vision, 1999,\n",
    "       :DOI:`10.1007/3-540-48236-9_13`\n",
    ".. [2] Chan-Vese Segmentation, Pascal Getreuer, Image Processing On\n",
    "       Line, 2 (2012), pp. 214-224,\n",
    "       :DOI:`10.5201/ipol.2012.g-cv`\n",
    ".. [3] The Chan-Vese Algorithm - Project Report, Rami Cohen, 2011\n",
    "       :arXiv:`1107.2782`\n"
   ]
  },
  {
   "cell_type": "code",
   "execution_count": 4,
   "metadata": {},
   "outputs": [],
   "source": [
    "import matplotlib.pyplot as plt\n",
    "\n",
    "def plot_tutorial(image, cv):\n",
    "    fig, axes = plt.subplots(2, 2, figsize=(8, 8))\n",
    "    ax = axes.flatten()\n",
    "\n",
    "    ax[0].imshow(image, cmap=\"gray\")\n",
    "    ax[0].set_axis_off()\n",
    "    ax[0].set_title(\"Original Image\", fontsize=12)\n",
    "\n",
    "    ax[1].imshow(cv[0])\n",
    "    ax[1].set_axis_off()\n",
    "    title = \"Chan-Vese segmentation - {} iterations\".format(len(cv[2]))\n",
    "    ax[1].set_title(title, fontsize=12)\n",
    "\n",
    "    ax[2].imshow(cv[1], cmap=\"gray\")\n",
    "    ax[2].set_axis_off()\n",
    "    ax[2].set_title(\"Final Level Set\", fontsize=12)\n",
    "\n",
    "    ax[3].plot(cv[2])\n",
    "    ax[3].set_title(\"Evolution of energy over iterations\", fontsize=12)\n",
    "\n",
    "    fig.tight_layout()\n",
    "    plt.show()"
   ]
  },
  {
   "cell_type": "code",
   "execution_count": 39,
   "metadata": {},
   "outputs": [
    {
     "name": "stderr",
     "output_type": "stream",
     "text": [
      "/home/giuliano/anaconda3/envs/tfg/lib/python3.7/site-packages/scipy/ndimage/measurements.py:1359: RuntimeWarning: invalid value encountered in double_scalars\n",
      "  for dir in range(input.ndim)]\n"
     ]
    },
    {
     "ename": "ValueError",
     "evalue": "cannot convert float NaN to integer",
     "output_type": "error",
     "traceback": [
      "\u001b[0;31m---------------------------------------------------------------------------\u001b[0m",
      "\u001b[0;31mValueError\u001b[0m                                Traceback (most recent call last)",
      "\u001b[0;32m<ipython-input-39-bee707a4b49d>\u001b[0m in \u001b[0;36m<module>\u001b[0;34m\u001b[0m\n\u001b[1;32m     20\u001b[0m \u001b[0mobjects\u001b[0m \u001b[0;34m=\u001b[0m \u001b[0mfind_objects\u001b[0m\u001b[0;34m(\u001b[0m\u001b[0mlabeled\u001b[0m\u001b[0;34m)\u001b[0m\u001b[0;34m\u001b[0m\u001b[0;34m\u001b[0m\u001b[0m\n\u001b[1;32m     21\u001b[0m \u001b[0mcenters\u001b[0m \u001b[0;34m=\u001b[0m \u001b[0mcenter_of_mass\u001b[0m\u001b[0;34m(\u001b[0m\u001b[0mlabeled\u001b[0m\u001b[0;34m)\u001b[0m\u001b[0;34m\u001b[0m\u001b[0;34m\u001b[0m\u001b[0m\n\u001b[0;32m---> 22\u001b[0;31m \u001b[0mcenters\u001b[0m \u001b[0;34m=\u001b[0m \u001b[0;34m[\u001b[0m\u001b[0mint\u001b[0m\u001b[0;34m(\u001b[0m\u001b[0mc\u001b[0m\u001b[0;34m)\u001b[0m \u001b[0;32mfor\u001b[0m \u001b[0mc\u001b[0m \u001b[0;32min\u001b[0m \u001b[0mcenters\u001b[0m\u001b[0;34m]\u001b[0m\u001b[0;34m\u001b[0m\u001b[0;34m\u001b[0m\u001b[0m\n\u001b[0m\u001b[1;32m     23\u001b[0m \u001b[0;34m\u001b[0m\u001b[0m\n\u001b[1;32m     24\u001b[0m \u001b[0mrgb\u001b[0m \u001b[0;34m=\u001b[0m \u001b[0mgray2rgb\u001b[0m\u001b[0;34m(\u001b[0m\u001b[0msegmented\u001b[0m\u001b[0;34m.\u001b[0m\u001b[0mastype\u001b[0m\u001b[0;34m(\u001b[0m\u001b[0mfloat\u001b[0m\u001b[0;34m)\u001b[0m\u001b[0;34m)\u001b[0m\u001b[0;34m\u001b[0m\u001b[0;34m\u001b[0m\u001b[0m\n",
      "\u001b[0;32m<ipython-input-39-bee707a4b49d>\u001b[0m in \u001b[0;36m<listcomp>\u001b[0;34m(.0)\u001b[0m\n\u001b[1;32m     20\u001b[0m \u001b[0mobjects\u001b[0m \u001b[0;34m=\u001b[0m \u001b[0mfind_objects\u001b[0m\u001b[0;34m(\u001b[0m\u001b[0mlabeled\u001b[0m\u001b[0;34m)\u001b[0m\u001b[0;34m\u001b[0m\u001b[0;34m\u001b[0m\u001b[0m\n\u001b[1;32m     21\u001b[0m \u001b[0mcenters\u001b[0m \u001b[0;34m=\u001b[0m \u001b[0mcenter_of_mass\u001b[0m\u001b[0;34m(\u001b[0m\u001b[0mlabeled\u001b[0m\u001b[0;34m)\u001b[0m\u001b[0;34m\u001b[0m\u001b[0;34m\u001b[0m\u001b[0m\n\u001b[0;32m---> 22\u001b[0;31m \u001b[0mcenters\u001b[0m \u001b[0;34m=\u001b[0m \u001b[0;34m[\u001b[0m\u001b[0mint\u001b[0m\u001b[0;34m(\u001b[0m\u001b[0mc\u001b[0m\u001b[0;34m)\u001b[0m \u001b[0;32mfor\u001b[0m \u001b[0mc\u001b[0m \u001b[0;32min\u001b[0m \u001b[0mcenters\u001b[0m\u001b[0;34m]\u001b[0m\u001b[0;34m\u001b[0m\u001b[0;34m\u001b[0m\u001b[0m\n\u001b[0m\u001b[1;32m     23\u001b[0m \u001b[0;34m\u001b[0m\u001b[0m\n\u001b[1;32m     24\u001b[0m \u001b[0mrgb\u001b[0m \u001b[0;34m=\u001b[0m \u001b[0mgray2rgb\u001b[0m\u001b[0;34m(\u001b[0m\u001b[0msegmented\u001b[0m\u001b[0;34m.\u001b[0m\u001b[0mastype\u001b[0m\u001b[0;34m(\u001b[0m\u001b[0mfloat\u001b[0m\u001b[0;34m)\u001b[0m\u001b[0;34m)\u001b[0m\u001b[0;34m\u001b[0m\u001b[0;34m\u001b[0m\u001b[0m\n",
      "\u001b[0;31mValueError\u001b[0m: cannot convert float NaN to integer"
     ]
    }
   ],
   "source": [
    "import numpy as np\n",
    "import random\n",
    "import os\n",
    "from root.utils import readImage\n",
    "from root.segmentation.chan_vese import segment\n",
    "from skimage import data, img_as_float\n",
    "from skimage.segmentation import chan_vese\n",
    "from skimage.color import gray2rgb\n",
    "\n",
    "from scipy.ndimage import label, find_objects\n",
    "from scipy.ndimage.measurements import center_of_mass\n",
    "\n",
    "\n",
    "input_path = '../data/output/hr/128/'\n",
    "image = readImage(input_path + random.sample(os.listdir(input_path), 1)[0])\n",
    "\n",
    "grayScale, segmented, phi, energies = segment(image, mu=0.15, lambda1=1, lambda2=1, tol=0.1e-3, max_iter=500, dt=0.25)\n",
    "\n",
    "labeled, n = label(segmented)\n",
    "objects = find_objects(labeled)\n",
    "centers = center_of_mass(labeled)\n",
    "centers = [int(c) for c in centers]\n",
    "\n",
    "rgb = gray2rgb(segmented.astype(float))\n",
    "\n",
    "rgb[centers[0]-2:centers[0]+2:, centers[1]-2:centers[1]+2:] = np.array([0, 0, 1])\n",
    "\n",
    "plot_tutorial(grayScale, [rgb, phi, energies])\n",
    "\n",
    "print(n)\n",
    "print(centers)\n"
   ]
  }
 ],
 "metadata": {
  "kernelspec": {
   "display_name": "Python 3",
   "language": "python",
   "name": "python3"
  },
  "language_info": {
   "codemirror_mode": {
    "name": "ipython",
    "version": 3
   },
   "file_extension": ".py",
   "mimetype": "text/x-python",
   "name": "python",
   "nbconvert_exporter": "python",
   "pygments_lexer": "ipython3",
   "version": "3.7.7"
  }
 },
 "nbformat": 4,
 "nbformat_minor": 1
}
